{
 "cells": [
  {
   "cell_type": "code",
   "execution_count": null,
   "metadata": {},
   "outputs": [],
   "source": [
    "import numpy as np\n",
    "import pandas as pd\n",
    "import tempfile\n",
    "import plotly as ply\n",
    "import matplotlib.pyplot as plt\n",
    "import os\n",
    "import pandapower as pp\n",
    "import pandapower.plotting as plot\n",
    "import simbench as sb\n",
    "\n",
    "try:\n",
    "    import seaborn\n",
    "    colors = seaborn.color_palette()\n",
    "except:\n",
    "    colors = [\"b\", \"g\", \"r\", \"c\", \"y\"]\n",
    "%matplotlib inline\n",
    "\n",
    "from pandapower.timeseries import DFData\n",
    "from pandapower.timeseries import OutputWriter\n",
    "from pandapower.timeseries.run_time_series import run_timeseries\n",
    "from pandapower.control import ConstControl\n",
    "\n",
    "\n",
    "import pandapower.networks as pn\n"
   ]
  },
  {
   "cell_type": "code",
   "execution_count": null,
   "metadata": {},
   "outputs": [],
   "source": [
    "#Load the net\n",
    "net = pn.create_cigre_network_lv()\n",
    "\n",
    "#Run the Power Flow\n",
    "pp.runpp(net)\n",
    "\n",
    "#Plot the results\n",
    "plot.plotly.vlevel_plotly(net, respect_switches=True, use_line_geodata=None, colors_dict=None, on_map=False, projection=None, map_style='basic', figsize=1, aspectratio='auto', line_width=2, bus_size=10)\n"
   ]
  },
  {
   "cell_type": "code",
   "execution_count": null,
   "metadata": {},
   "outputs": [],
   "source": [
    "net.bus"
   ]
  },
  {
   "cell_type": "code",
   "execution_count": null,
   "metadata": {},
   "outputs": [],
   "source": [
    "#Remove the buses\n",
    "net.bus.drop(index=[20,21,22,23,24,25,26,27,28,29,30,31,32,33,34,35,36,37,38,39,40,41,42,43],inplace=True)\n",
    "net.bus"
   ]
  },
  {
   "cell_type": "code",
   "execution_count": null,
   "metadata": {},
   "outputs": [],
   "source": [
    "#Plot the results\n",
    "pp.runpp(net)"
   ]
  },
  {
   "cell_type": "code",
   "execution_count": null,
   "metadata": {},
   "outputs": [],
   "source": [
    "#Define DER as static generation\n",
    "pp.create_sgen(net, bus=2, p_mw=0.1, q_mvar=0, sn_mva=0.1, name = 'PV R1', type= 'PV')\n",
    "pp.create_sgen(net, bus=12, p_mw=0.03, q_mvar=0, sn_mva=0.03, name = 'PV R11', type= 'PV')\n",
    "pp.create_sgen(net, bus=16, p_mw=0.03, q_mvar=0, sn_mva=0.03, name = 'PV R15', type= 'PV')\n",
    "pp.create_sgen(net, bus=17, p_mw=0.03, q_mvar=0, sn_mva=0.03, name = 'PV R16', type= 'PV')\n",
    "pp.create_sgen(net, bus=18, p_mw=0.05, q_mvar=0, sn_mva=0.05, name = 'PV R17', type= 'PV')\n",
    "pp.create_sgen(net, bus=19, p_mw=0.05, q_mvar=0, sn_mva=0.05, name = 'PV R18', type= 'PV')\n",
    "net.sgen\n"
   ]
  }
 ],
 "metadata": {
  "kernelspec": {
   "display_name": "base",
   "language": "python",
   "name": "python3"
  },
  "language_info": {
   "codemirror_mode": {
    "name": "ipython",
    "version": 3
   },
   "file_extension": ".py",
   "mimetype": "text/x-python",
   "name": "python",
   "nbconvert_exporter": "python",
   "pygments_lexer": "ipython3",
   "version": "3.9.13"
  },
  "orig_nbformat": 4,
  "vscode": {
   "interpreter": {
    "hash": "e2d3030aa62b10533d592b665ee5f43427358e10301a234a8e86c95bf2cc1528"
   }
  }
 },
 "nbformat": 4,
 "nbformat_minor": 2
}
